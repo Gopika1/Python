{
  "nbformat": 4,
  "nbformat_minor": 0,
  "metadata": {
    "colab": {
      "name": "Python2final.ipynb",
      "provenance": [],
      "collapsed_sections": []
    },
    "kernelspec": {
      "name": "python3",
      "display_name": "Python 3"
    }
  },
  "cells": [
    {
      "cell_type": "code",
      "metadata": {
        "colab": {
          "base_uri": "https://localhost:8080/"
        },
        "id": "ibCNpdpWocK6",
        "outputId": "3fe17b2b-8a44-4a0c-eda5-8aa6b067a6b7"
      },
      "source": [
        "#1 print your address\r\n",
        "def personal_details():\r\n",
        "    name = \"Gopika Gopinathan\" \r\n",
        "    address = \"Choorakkuttiyil(H),Kulathoor P.O,Vaipur,Pathanamthitta, India\"\r\n",
        "    print(\"Name: {}\\n Address: {}\".format(name, address))\r\n",
        "\r\n",
        "personal_details()"
      ],
      "execution_count": 2,
      "outputs": [
        {
          "output_type": "stream",
          "text": [
            "Name: Gopika Gopinathan\n",
            " Address: Choorakkuttiyil(H),Kulathoor P.O,Vaipur,Pathanamthitta, India\n"
          ],
          "name": "stdout"
        }
      ]
    },
    {
      "cell_type": "code",
      "metadata": {
        "colab": {
          "base_uri": "https://localhost:8080/"
        },
        "id": "y3KDdwk2oeLr",
        "outputId": "f0013803-693e-41a5-af60-e1f766fa0c0a"
      },
      "source": [
        "#2 Display future leap years from current year to a final year entered by user\r\n",
        "y=int(input(\"Enter the final year : \"))\r\n",
        "print(\"Future Leap Years from 2021 : \")\r\n",
        "for x in range (2021,y+1):\r\n",
        "  if((x%4==0) and (x%100!=0)) or (x%400==0):\r\n",
        "    print(x)"
      ],
      "execution_count": 3,
      "outputs": [
        {
          "output_type": "stream",
          "text": [
            "Enter the final year : 2031\n",
            "Future Leap Years from 2021 : \n",
            "2024\n",
            "2028\n"
          ],
          "name": "stdout"
        }
      ]
    },
    {
      "cell_type": "code",
      "metadata": {
        "colab": {
          "base_uri": "https://localhost:8080/"
        },
        "id": "SpKK6EZLomEz",
        "outputId": "c936db0c-0d2d-4441-9049-0831d2adacfa"
      },
      "source": [
        "#3a Generate positive list of numbers from a given list of integers\r\n",
        "mylist=[25,28,-11,100,-50,81,43,-32]\r\n",
        "print(\"First list : \",mylist)\r\n",
        "newlist=[x for x in mylist if x > 0]\r\n",
        "print(\"New list : \", newlist)"
      ],
      "execution_count": 4,
      "outputs": [
        {
          "output_type": "stream",
          "text": [
            "First list :  [25, 28, -11, 100, -50, 81, 43, -32]\n",
            "New list :  [25, 28, 100, 81, 43]\n"
          ],
          "name": "stdout"
        }
      ]
    },
    {
      "cell_type": "code",
      "metadata": {
        "colab": {
          "base_uri": "https://localhost:8080/"
        },
        "id": "WJ4jk0_SovrX",
        "outputId": "be5da4dd-e6eb-40d5-e043-a20cd902e65a"
      },
      "source": [
        "#3b Square of N numbers\r\n",
        "mylist=[2,3,4,5,6]\r\n",
        "print(\"First list : \",mylist)\r\n",
        "newlist=[number ** 2 for number in mylist]\r\n",
        "print(\"New list : \" ,newlist)"
      ],
      "execution_count": 5,
      "outputs": [
        {
          "output_type": "stream",
          "text": [
            "First list :  [2, 3, 4, 5, 6]\n",
            "New list :  [4, 9, 16, 25, 36]\n"
          ],
          "name": "stdout"
        }
      ]
    },
    {
      "cell_type": "code",
      "metadata": {
        "colab": {
          "base_uri": "https://localhost:8080/"
        },
        "id": "KeKCt1iGo1XH",
        "outputId": "4889f07f-aa10-4437-843c-3daf974d65ca"
      },
      "source": [
        "#3c Form a list of vowels selected from a given word\r\n",
        "word= input(\"Enter a word: \") \r\n",
        "vowels=[ 'a' , 'e' , 'i' , 'o' , 'u' ]\r\n",
        "list=[]\r\n",
        "for x in word:\r\n",
        "  if(x in vowels and x not in list):\r\n",
        "     list.append(x)\r\n",
        "print(\"vowels present in the given word is: \",list)"
      ],
      "execution_count": 6,
      "outputs": [
        {
          "output_type": "stream",
          "text": [
            "Enter a word: Vowel\n",
            "vowels present in the given word is:  ['o', 'e']\n"
          ],
          "name": "stdout"
        }
      ]
    },
    {
      "cell_type": "code",
      "metadata": {
        "colab": {
          "base_uri": "https://localhost:8080/"
        },
        "id": "juXpH6CmpBAz",
        "outputId": "3a0caab9-72d5-453a-841a-2b3177e005e9"
      },
      "source": [
        "#3 (d)List ordinal value of each element of a word (Hint: use ord() to get ordinal values)\r\n",
        "w=input(\"enter any word : \")\r\n",
        "for l in range(len(w)) :\r\n",
        "  print(\"ASCII value is\",w[l],\"is\",ord(w[l]))"
      ],
      "execution_count": 7,
      "outputs": [
        {
          "output_type": "stream",
          "text": [
            "enter any word : day\n",
            "ASCII value is d is 100\n",
            "ASCII value is a is 97\n",
            "ASCII value is y is 121\n"
          ],
          "name": "stdout"
        }
      ]
    },
    {
      "cell_type": "code",
      "metadata": {
        "colab": {
          "base_uri": "https://localhost:8080/"
        },
        "id": "MjMeABLEpLO6",
        "outputId": "c6417733-86ac-4443-a92f-9c368731a769"
      },
      "source": [
        "#4 Count the occurrences of each word in a line of text.\r\n",
        "def word_count(str):\r\n",
        "    counts = dict()\r\n",
        "    words = str.split()\r\n",
        "\r\n",
        "    for word in words:\r\n",
        "        if word in counts:\r\n",
        "            counts[word] += 1\r\n",
        "        else:\r\n",
        "            counts[word] = 1\r\n",
        "\r\n",
        "    return counts\r\n",
        "\r\n",
        "print( word_count('the quick brown fox jumps over the lazy dog.'))  "
      ],
      "execution_count": 8,
      "outputs": [
        {
          "output_type": "stream",
          "text": [
            "{'the': 2, 'quick': 1, 'brown': 1, 'fox': 1, 'jumps': 1, 'over': 1, 'lazy': 1, 'dog.': 1}\n"
          ],
          "name": "stdout"
        }
      ]
    },
    {
      "cell_type": "code",
      "metadata": {
        "colab": {
          "base_uri": "https://localhost:8080/"
        },
        "id": "SpQj3aFVpRhH",
        "outputId": "69cedd0b-e3e3-4afc-ce68-f78a0ce72076"
      },
      "source": [
        "#5.Prompt the user for a list of integers. For all values greater than 100, store ‘over’ instead.\r\n",
        "x=[]\r\n",
        "n=int(input(\"enter any integers :\"))\r\n",
        "for i in range(1,n+1):\r\n",
        "  a=int(input())\r\n",
        "  if (a>100):\r\n",
        "    x.append('over')\r\n",
        "  else:\r\n",
        "    x.append(a)\r\n",
        "print(\"modified list :\" ,x)"
      ],
      "execution_count": 9,
      "outputs": [
        {
          "output_type": "stream",
          "text": [
            "enter any integers :4\n",
            "50\n",
            "100\n",
            "200\n",
            "300\n",
            "modified list : [50, 100, 'over', 'over']\n"
          ],
          "name": "stdout"
        }
      ]
    },
    {
      "cell_type": "code",
      "metadata": {
        "colab": {
          "base_uri": "https://localhost:8080/"
        },
        "id": "z7OFsT0OpbT0",
        "outputId": "c5140e43-edce-4af6-ba9f-8d45f99e88fd"
      },
      "source": [
        "#6 Store a list of first names. Count the occurrences of ‘a’ within the list\r\n",
        "name =input(\"Enter the first names : \")\r\n",
        "list = []\r\n",
        "count = 0\r\n",
        "for x in name:\r\n",
        " list.append(x)\r\n",
        " if(x in name and x == 'a'):\r\n",
        "   count = count + 1\r\n",
        "print(count)"
      ],
      "execution_count": 10,
      "outputs": [
        {
          "output_type": "stream",
          "text": [
            "Enter the first names : Gopika,Gayathri\n",
            "3\n"
          ],
          "name": "stdout"
        }
      ]
    },
    {
      "cell_type": "code",
      "metadata": {
        "colab": {
          "base_uri": "https://localhost:8080/"
        },
        "id": "_wYy7EsUpnrW",
        "outputId": "fd71c7ec-b564-4546-9330-f11435aa29c3"
      },
      "source": [
        "#7 Enter 2 list of integers.\r\n",
        "#a) check whether lists are of same length\r\n",
        "list1 = [1, 2, 4, 3, 8] \r\n",
        "list2 = [1, 2, 4, 3, 5] \r\n",
        "print (\"The first list is : \" + str(list1)) \r\n",
        "print (\"The second list is : \" + str(list2)) \r\n",
        "l1 = len(list1)\r\n",
        "l2 = len(list2)\r\n",
        "print(\"Length of list1 : \" , l1 , \"and Length of list2 : \" , l2)\r\n",
        "if l1 == l2: \r\n",
        "    print (\"The lists are of same length\") \r\n",
        "else : \r\n",
        "    print (\"The lists are of different length\")"
      ],
      "execution_count": 11,
      "outputs": [
        {
          "output_type": "stream",
          "text": [
            "The first list is : [1, 2, 4, 3, 8]\n",
            "The second list is : [1, 2, 4, 3, 5]\n",
            "Length of list1 :  5 and Length of list2 :  5\n",
            "The lists are of same length\n"
          ],
          "name": "stdout"
        }
      ]
    },
    {
      "cell_type": "code",
      "metadata": {
        "colab": {
          "base_uri": "https://localhost:8080/"
        },
        "id": "4fqOTd5oqGXO",
        "outputId": "9e5f23f2-4a31-4bd7-bc1d-93ed525e48c1"
      },
      "source": [
        "#7b check whether lists sums to same value\r\n",
        "list1 = [1, 2, 4, 3, 8] \r\n",
        "list2 = [1, 2, 4, 3, 5] \r\n",
        "print (\"The first list is : \" + str(list1)) \r\n",
        "print (\"The second list is : \" + str(list2)) \r\n",
        "sum1 = 0\r\n",
        "sum2 = 0\r\n",
        "for x in range(0, len(list1)):\r\n",
        "    sum1 = sum1 + list1[x]\r\n",
        "print(\"Sum of all elements in given list1 : \", sum1)\r\n",
        "for x in range(0, len(list2)):\r\n",
        "    sum2 = sum2 + list2[x]\r\n",
        "print(\"Sum of all elements in given list2 : \", sum2)    \r\n",
        "if( sum1 == sum2):\r\n",
        "  print(\"Lists sums to same value\")\r\n",
        "else:\r\n",
        "  print(\"Lists sums to different value\")"
      ],
      "execution_count": 12,
      "outputs": [
        {
          "output_type": "stream",
          "text": [
            "The first list is : [1, 2, 4, 3, 8]\n",
            "The second list is : [1, 2, 4, 3, 5]\n",
            "Sum of all elements in given list1 :  18\n",
            "Sum of all elements in given list2 :  15\n",
            "Lists sums to different value\n"
          ],
          "name": "stdout"
        }
      ]
    },
    {
      "cell_type": "code",
      "metadata": {
        "colab": {
          "base_uri": "https://localhost:8080/"
        },
        "id": "R7eziWyRqRPe",
        "outputId": "f5b0a726-87fa-49b2-b288-9e5704dcee10"
      },
      "source": [
        "#7c  Check whether any value occur in both\r\n",
        "list1 =[1,2,4,3,8]\r\n",
        "list2 =[1,2,4,3,5]\r\n",
        "print (\"The first list is : \" + str(list1))\r\n",
        "print (\"The second list is : \" + str(list2))\r\n",
        "print (\"The values occur in both lists : \")\r\n",
        "for x in list1:\r\n",
        "    if(x in list1 and x in list2):\r\n",
        "      print(x)"
      ],
      "execution_count": 13,
      "outputs": [
        {
          "output_type": "stream",
          "text": [
            "The first list is : [1, 2, 4, 3, 8]\n",
            "The second list is : [1, 2, 4, 3, 5]\n",
            "The values occur in both lists : \n",
            "1\n",
            "2\n",
            "4\n",
            "3\n"
          ],
          "name": "stdout"
        }
      ]
    },
    {
      "cell_type": "code",
      "metadata": {
        "colab": {
          "base_uri": "https://localhost:8080/"
        },
        "id": "2O-ZeCw3qX-J",
        "outputId": "88a12d0e-ba13-4ac0-abf8-825cb2b1f73f"
      },
      "source": [
        "#8 Replace all occurance of first character with $ except first character\r\n",
        "def change_char(str1):\r\n",
        "  char = str1[0]\r\n",
        "  str1 = str1.replace(char, '$')\r\n",
        "  str1 = char + str1[1:]\r\n",
        "  return str1\r\n",
        "\r\n",
        "print(change_char('onion'))"
      ],
      "execution_count": 14,
      "outputs": [
        {
          "output_type": "stream",
          "text": [
            "oni$n\n"
          ],
          "name": "stdout"
        }
      ]
    },
    {
      "cell_type": "code",
      "metadata": {
        "colab": {
          "base_uri": "https://localhost:8080/"
        },
        "id": "bL8NcrOLqdJz",
        "outputId": "946c3460-ca7d-48d1-cc75-168c11b15122"
      },
      "source": [
        "#9 Create a string from given string where first and last characters exchanged\r\n",
        "a=input(\"Enter a string : \")\r\n",
        "print(\"New string : \")\r\n",
        "print(a[-1] + a[1:-1] +a[0])"
      ],
      "execution_count": 15,
      "outputs": [
        {
          "output_type": "stream",
          "text": [
            "Enter a string : Python\n",
            "New string : \n",
            "nythoP\n"
          ],
          "name": "stdout"
        }
      ]
    },
    {
      "cell_type": "code",
      "metadata": {
        "colab": {
          "base_uri": "https://localhost:8080/"
        },
        "id": "0_oS6C4hqo0a",
        "outputId": "b2a65969-2058-4c13-eb23-fb430ff68d78"
      },
      "source": [
        "#10 Accept the radius from user and find area of circle.\r\n",
        "r=float(input(\"Enter radius of circle : \"))\r\n",
        "pi=3.14\r\n",
        "area=pi * r * r\r\n",
        "print(\"Area = \" , area)"
      ],
      "execution_count": 16,
      "outputs": [
        {
          "output_type": "stream",
          "text": [
            "Enter radius of circle : 2\n",
            "Area =  12.56\n"
          ],
          "name": "stdout"
        }
      ]
    },
    {
      "cell_type": "code",
      "metadata": {
        "colab": {
          "base_uri": "https://localhost:8080/"
        },
        "id": "yCU1sCOAqvK4",
        "outputId": "4a288214-ee37-4fd9-a786-865356a84e1e"
      },
      "source": [
        "#11 Find biggest of 3 numbers entered\r\n",
        "a = float(input(\"Enter first number : \"))\r\n",
        "b = float(input(\"Enter second number : \"))\r\n",
        "c = float(input(\"Enter third number : \"))\r\n",
        "\r\n",
        "if (a > b) and (a > c):\r\n",
        "  largest= a\r\n",
        "elif (b > a) and (b > c):\r\n",
        "    largest= b\r\n",
        "else:\r\n",
        "      largest = c\r\n",
        "print(\"The largest number is \", largest)"
      ],
      "execution_count": 17,
      "outputs": [
        {
          "output_type": "stream",
          "text": [
            "Enter first number : 50\n",
            "Enter second number : 45\n",
            "Enter third number : 30\n",
            "The largest number is  50.0\n"
          ],
          "name": "stdout"
        }
      ]
    },
    {
      "cell_type": "code",
      "metadata": {
        "colab": {
          "base_uri": "https://localhost:8080/"
        },
        "id": "Z8wWWR6hq_PO",
        "outputId": "c65e469c-b751-4b28-b3dc-c76548366ec2"
      },
      "source": [
        "#12 Accept a file name from user and print extension of that\r\n",
        "filename = input(\"Enter the Filename : \")\r\n",
        "f_extns = filename.split(\".\")\r\n",
        "print (\"The extension of the file is : \" + repr(f_extns[-1]))"
      ],
      "execution_count": 18,
      "outputs": [
        {
          "output_type": "stream",
          "text": [
            "Enter the Filename : mylist.css\n",
            "The extension of the file is : 'css'\n"
          ],
          "name": "stdout"
        }
      ]
    },
    {
      "cell_type": "code",
      "metadata": {
        "colab": {
          "base_uri": "https://localhost:8080/"
        },
        "id": "PWDQW2MdrGfH",
        "outputId": "cc1ce3ca-31b6-49fd-bdb0-4be7b27969c7"
      },
      "source": [
        "#13 Create a list of colors from comma-separated color names entered by user. Display first and last colors.\r\n",
        "word = input(\"Enter the colors : \")\r\n",
        "color_list = word.split(\",\")\r\n",
        "print(\"The color list is : \" , color_list)\r\n",
        "print(\"The first and last colors are : \")\r\n",
        "print( \"%s %s\"%(color_list[0],color_list[-1]))\r\n"
      ],
      "execution_count": 19,
      "outputs": [
        {
          "output_type": "stream",
          "text": [
            "Enter the colors : Red,Blue,Green,Yellow\n",
            "The color list is :  ['Red', 'Blue', 'Green', 'Yellow']\n",
            "The first and last colors are : \n",
            "Red Yellow\n"
          ],
          "name": "stdout"
        }
      ]
    },
    {
      "cell_type": "code",
      "metadata": {
        "colab": {
          "base_uri": "https://localhost:8080/"
        },
        "id": "9691-cXVrsAq",
        "outputId": "e4988c67-74c5-44d6-b34a-7fde8e396d18"
      },
      "source": [
        "#14 Accept an integer n and compute n+nn+nnn\r\n",
        "a = int(input(\" enter an integer : \"))\r\n",
        "n1 = int(\"%s\" % a )\r\n",
        "n2 = int(\"%s%s\" % (a,a) )\r\n",
        "n3 = int(\"%s%s%s\" % (a,a,a))\r\n",
        "print (n1+n2+n3)"
      ],
      "execution_count": 20,
      "outputs": [
        {
          "output_type": "stream",
          "text": [
            " enter an integer : 5\n",
            "615\n"
          ],
          "name": "stdout"
        }
      ]
    },
    {
      "cell_type": "code",
      "metadata": {
        "colab": {
          "base_uri": "https://localhost:8080/"
        },
        "id": "miMY1FRasDNb",
        "outputId": "32951aae-11d0-42b4-9d5a-268400181f62"
      },
      "source": [
        "#15.Print out all colors from color-list1 not contained in color-list2.\r\n",
        "color_list_1 = set([\"White\" ,\"Yellow\",\"Blue\",\"Red\"])\r\n",
        "color_list_2 = set([\"Green\" ,\"Violet\" , \"Orange\",\"Red\"])\r\n",
        "print(color_list_1.difference(color_list_2))"
      ],
      "execution_count": 21,
      "outputs": [
        {
          "output_type": "stream",
          "text": [
            "{'Yellow', 'White', 'Blue'}\n"
          ],
          "name": "stdout"
        }
      ]
    },
    {
      "cell_type": "code",
      "metadata": {
        "colab": {
          "base_uri": "https://localhost:8080/"
        },
        "id": "Rf89ckPisPqY",
        "outputId": "4db5b92d-6807-4249-9644-f9b1ed39ea67"
      },
      "source": [
        "16#Create a single string separated with space from two strings by swapping the character at position 1\r\n",
        "def chars_mix_up(a, b):\r\n",
        "  str1 = a[0] + b[1] + a[2:]\r\n",
        "  str2 = b[0] + a[1] + b[2:]\r\n",
        "\r\n",
        "  return str1 + ' ' + str2\r\n",
        "print(chars_mix_up('abc', 'xyz'))"
      ],
      "execution_count": 22,
      "outputs": [
        {
          "output_type": "stream",
          "text": [
            "ayc xbz\n"
          ],
          "name": "stdout"
        }
      ]
    },
    {
      "cell_type": "code",
      "metadata": {
        "colab": {
          "base_uri": "https://localhost:8080/"
        },
        "id": "VPQvWikUnWID",
        "outputId": "9ecd320e-4de0-4c14-8236-23cebea4c713"
      },
      "source": [
        "#17 Sort dictionary in ascending and descending order\r\n",
        "y={'della':50,'anna':27,'vidya':49,'keerthi':89}\r\n",
        "print(\"Original dictionary : \" , y)\r\n",
        "l=list(y.items())\r\n",
        "l.sort()\r\n",
        "print(\"Ascending order : \" , l)\r\n",
        "l=list(y.items())\r\n",
        "l.sort(reverse=True)\r\n",
        "print(\"Descending order : \" , l)"
      ],
      "execution_count": 1,
      "outputs": [
        {
          "output_type": "stream",
          "text": [
            "Original dictionary :  {'della': 50, 'anna': 27, 'vidya': 49, 'keerthi': 89}\n",
            "Ascending order :  [('anna', 27), ('della', 50), ('keerthi', 89), ('vidya', 49)]\n",
            "Descending order :  [('vidya', 49), ('keerthi', 89), ('della', 50), ('anna', 27)]\n"
          ],
          "name": "stdout"
        }
      ]
    },
    {
      "cell_type": "code",
      "metadata": {
        "colab": {
          "base_uri": "https://localhost:8080/"
        },
        "id": "YHtriDzAsZGA",
        "outputId": "4d63dec9-c5a2-4ade-c195-8c4ff493ed1b"
      },
      "source": [
        "#18.Merge two dictionaries\r\n",
        "dict1 ={\"a\" :100 , \"b\" :200}\r\n",
        "dict2 ={\"x\" :300 , \"y\" :400}\r\n",
        "newdict = dict1.copy()\r\n",
        "newdict.update(dict2)\r\n",
        "print(\"Merged dictionary : \" ,newdict)"
      ],
      "execution_count": 23,
      "outputs": [
        {
          "output_type": "stream",
          "text": [
            "Merged dictionary :  {'a': 100, 'b': 200, 'x': 300, 'y': 400}\n"
          ],
          "name": "stdout"
        }
      ]
    },
    {
      "cell_type": "code",
      "metadata": {
        "colab": {
          "base_uri": "https://localhost:8080/"
        },
        "id": "vFmSLSmnsbhf",
        "outputId": "9c261902-13c7-485f-d69b-38b7a98cbe0a"
      },
      "source": [
        "#19 Find gcd of 2 numbers\r\n",
        "num1 = int(input(\"Enter 1st number: \"))\r\n",
        "num2 = int(input(\"Enter 2nd number: \"))\r\n",
        "i = 1\r\n",
        "while(i <= num1 and i <= num2):\r\n",
        "  if(num1 % i == 0 and num2 % i == 0):\r\n",
        "    gcd = i\r\n",
        "  i = i + 1\r\n",
        "print(\"GCD is\", gcd)"
      ],
      "execution_count": 24,
      "outputs": [
        {
          "output_type": "stream",
          "text": [
            "Enter 1st number: 60\n",
            "Enter 2nd number: 48\n",
            "GCD is 12\n"
          ],
          "name": "stdout"
        }
      ]
    },
    {
      "cell_type": "code",
      "metadata": {
        "colab": {
          "base_uri": "https://localhost:8080/"
        },
        "id": "91LHW5yusmpX",
        "outputId": "713b5f3b-bb20-4cca-e846-6e14f3c2a67e"
      },
      "source": [
        "#20 From a list of integers, create a list removing even numbers\r\n",
        "list = [1,2,3,4,5,6,7,8,9,10]\r\n",
        "print(\"original list : \",list)\r\n",
        "for i in list:\r\n",
        "  if(i%2 == 0):\r\n",
        "    list.remove(i)\r\n",
        "print(\"List after removing all even numbers : \",list)"
      ],
      "execution_count": 25,
      "outputs": [
        {
          "output_type": "stream",
          "text": [
            "original list :  [1, 2, 3, 4, 5, 6, 7, 8, 9, 10]\n",
            "List after removing all even numbers :  [1, 3, 5, 7, 9]\n"
          ],
          "name": "stdout"
        }
      ]
    }
  ]
}