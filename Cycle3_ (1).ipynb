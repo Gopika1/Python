{
  "nbformat": 4,
  "nbformat_minor": 0,
  "metadata": {
    "colab": {
      "name": "Cycle3 .ipynb",
      "provenance": [],
      "collapsed_sections": []
    },
    "kernelspec": {
      "name": "python3",
      "display_name": "Python 3"
    }
  },
  "cells": [
    {
      "cell_type": "code",
      "metadata": {
        "colab": {
          "base_uri": "https://localhost:8080/"
        },
        "id": "teQTOclhywOm",
        "outputId": "1a1b95fb-b0ac-443e-b6d0-a7f2259aec8c"
      },
      "source": [
        "#1. Program to find the factorial of a number \r\n",
        "num=int(input(\"enter the number\"))\r\n",
        "\r\n",
        "factorial = 1\r\n",
        "\r\n",
        "# check if the number is negative, positive or zero\r\n",
        "if num < 0:\r\n",
        "   print(\"Sorry, factorial does not exist for negative numbers\")\r\n",
        "elif num == 0:\r\n",
        "   print(\"The factorial of 0 is 1\")\r\n",
        "else:\r\n",
        "   for i in range(1,num + 1):\r\n",
        "       factorial = factorial*i\r\n",
        "   print(\"The factorial of\",num,\"is\",factorial)"
      ],
      "execution_count": null,
      "outputs": [
        {
          "output_type": "stream",
          "text": [
            "enter the number7\n",
            "The factorial of 7 is 5040\n"
          ],
          "name": "stdout"
        }
      ]
    },
    {
      "cell_type": "code",
      "metadata": {
        "colab": {
          "base_uri": "https://localhost:8080/"
        },
        "id": "H0NGzJXBzQiT",
        "outputId": "3a92ec61-07c6-4288-c1e1-4a08d7ac22f4"
      },
      "source": [
        "#2. Generate Fibonacci series of N terms\r\n",
        "nterms = int(input(\"How many terms? \"))\r\n",
        "\r\n",
        "# first two terms\r\n",
        "n1, n2 = 0, 1\r\n",
        "count = 0\r\n",
        "\r\n",
        "# check if the number of terms is valid\r\n",
        "if nterms <= 0:\r\n",
        "   print(\"Please enter a positive integer\")\r\n",
        "elif nterms == 1:\r\n",
        "   print(\"Fibonacci sequence upto\",nterms,\":\")\r\n",
        "   print(n1)\r\n",
        "else:\r\n",
        "   print(\"Fibonacci sequence:\")\r\n",
        "   while count < nterms:\r\n",
        "       print(n1)\r\n",
        "       nth = n1 + n2\r\n",
        "       # update values\r\n",
        "       n1 = n2\r\n",
        "       n2 = nth\r\n",
        "       count += 1"
      ],
      "execution_count": null,
      "outputs": [
        {
          "output_type": "stream",
          "text": [
            "How many terms? 5\n",
            "Fibonacci sequence:\n",
            "0\n",
            "1\n",
            "1\n",
            "2\n",
            "3\n"
          ],
          "name": "stdout"
        }
      ]
    },
    {
      "cell_type": "code",
      "metadata": {
        "colab": {
          "base_uri": "https://localhost:8080/"
        },
        "id": "1XwvzOgVzkXk",
        "outputId": "b6d27b53-6133-49ec-aa90-50534be2e589"
      },
      "source": [
        "#3 Find the sum of all items in a list \r\n",
        "\r\n",
        " \r\n",
        "# creating a list\r\n",
        "list1 = [11, 5, 17, 18, 23] \r\n",
        "print(\"The list is : \", list1)\r\n",
        "\r\n",
        "total = 0\r\n",
        "\r\n",
        "for x in range(0, len(list1)):\r\n",
        "    total = total + list1[x]\r\n",
        " \r\n",
        "# printing total value\r\n",
        "print(\"Sum of all elements in given list: \", total)"
      ],
      "execution_count": null,
      "outputs": [
        {
          "output_type": "stream",
          "text": [
            "The list is :  [11, 5, 17, 18, 23]\n",
            "Sum of all elements in given list:  74\n"
          ],
          "name": "stdout"
        }
      ]
    },
    {
      "cell_type": "code",
      "metadata": {
        "colab": {
          "base_uri": "https://localhost:8080/"
        },
        "id": "3aDoP6IMaMGP",
        "outputId": "5ec0361d-22fd-40b9-c1c8-40451cf7c31f"
      },
      "source": [
        "#4. Generate a list of four digit numbers in a given range with all their digits even and the number is a perfect square.\r\n",
        "l=int(input(\"Enter lower range: \"))\r\n",
        "r=int(input(\"Enter upper range: \"))\r\n",
        "for i in range(l,r+1,1):\r\n",
        "   for j in range(32,100,1):\r\n",
        "      if i == j*j:\r\n",
        "         string = str(i)\r\n",
        "         if int(string[0])%2 == 0 and int(string[1])%2 == 0 and int(string[2])%2 == 0 and int(string[3])%2 == 0:\r\n",
        "           print(i)"
      ],
      "execution_count": null,
      "outputs": [
        {
          "output_type": "stream",
          "text": [
            "Enter lower range: 64\n",
            "Enter upper range: 6400\n",
            "4624\n",
            "6084\n",
            "6400\n"
          ],
          "name": "stdout"
        }
      ]
    },
    {
      "cell_type": "code",
      "metadata": {
        "colab": {
          "base_uri": "https://localhost:8080/"
        },
        "id": "Naa19aVcz2Hw",
        "outputId": "82143d91-2fa0-4da2-f29a-ad34b68f9900"
      },
      "source": [
        "#5.Display the given pyramid with step number accepted from user\r\n",
        "row = int(input('Enter how many lines? '))\r\n",
        "\r\n",
        "# Generating pattern\r\n",
        "for i in range(1,row+1):\r\n",
        "    \r\n",
        "    # for space\r\n",
        "    for j in range(1, row+1-i):\r\n",
        "        print(' ', end='')\r\n",
        "    \r\n",
        "    # for increasing pattern\r\n",
        "    for j in range(1,i+1):\r\n",
        "        print(j, end='')\r\n",
        "    \r\n",
        "    # for decreasing pattern \r\n",
        "    for j in range(i-1,0,-1):\r\n",
        "        print(j, end='')\r\n",
        "    \r\n",
        "    # Moving to next line\r\n",
        "    print()"
      ],
      "execution_count": null,
      "outputs": [
        {
          "output_type": "stream",
          "text": [
            "Enter how many lines? 4\n",
            "   1\n",
            "  121\n",
            " 12321\n",
            "1234321\n"
          ],
          "name": "stdout"
        }
      ]
    },
    {
      "cell_type": "code",
      "metadata": {
        "colab": {
          "base_uri": "https://localhost:8080/"
        },
        "id": "l3WIiR9b0oxx",
        "outputId": "f3e9f973-95ff-4dd4-f0a5-b2a396dbf414"
      },
      "source": [
        " #6. Count the number of characters (character frequency) in a string. \r\n",
        " def char_frequency(str1):\r\n",
        "    dict = {}\r\n",
        "    for n in str1:\r\n",
        "        keys = dict.keys()\r\n",
        "        if n in keys:\r\n",
        "            dict[n] += 1\r\n",
        "        else:\r\n",
        "            dict[n] = 1\r\n",
        "    return dict\r\n",
        "print(char_frequency('google.com'))"
      ],
      "execution_count": null,
      "outputs": [
        {
          "output_type": "stream",
          "text": [
            "{'g': 2, 'o': 3, 'l': 1, 'e': 1, '.': 1, 'c': 1, 'm': 1}\n"
          ],
          "name": "stdout"
        }
      ]
    },
    {
      "cell_type": "code",
      "metadata": {
        "colab": {
          "base_uri": "https://localhost:8080/"
        },
        "id": "WFQrFDVVVs-_",
        "outputId": "8d8dfb88-9148-49e7-f2d2-64a27796a828"
      },
      "source": [
        "#7. Add ‘ing’ at the end of a given string. If it already ends with ‘ing’, then add ‘ly’\r\n",
        "def add_string(str1):\r\n",
        "  length = len(str1)\r\n",
        "\r\n",
        "  if length > 1:\r\n",
        "    if str1[-3:] == 'ing':\r\n",
        "      str1 += 'ly'\r\n",
        "    else:\r\n",
        "      str1 += 'ing'\r\n",
        "\r\n",
        "  return str1\r\n",
        "print(add_string('ab'))\r\n",
        "print(add_string('Python'))\r\n",
        "print(add_string('string'))"
      ],
      "execution_count": null,
      "outputs": [
        {
          "output_type": "stream",
          "text": [
            "abing\n",
            "Pythoning\n",
            "stringly\n"
          ],
          "name": "stdout"
        }
      ]
    },
    {
      "cell_type": "code",
      "metadata": {
        "colab": {
          "base_uri": "https://localhost:8080/"
        },
        "id": "XHXiTq8U6Kd9",
        "outputId": "9474b1d1-a708-4a55-9959-f1c4926f5315"
      },
      "source": [
        " #8. Accept a list of words and return length of longest word\r\n",
        "def longestLength(a): \r\n",
        "    max1 = len(a[0]) \r\n",
        "    temp = a[0] \r\n",
        "  \r\n",
        "    # for loop to traverse the list \r\n",
        "    for i in a: \r\n",
        "        if(len(i) > max1): \r\n",
        "  \r\n",
        "            max1 = len(i) \r\n",
        "            temp = i \r\n",
        "  \r\n",
        "    print(\"The word with the longest length is:\", temp, \r\n",
        "          \" and length is \", max1) \r\n",
        "  \r\n",
        "  \r\n",
        "# Driver Program \r\n",
        "a = input(\"Enter a list elements separated by space \")\r\n",
        "\r\n",
        "a = a.split() \r\n",
        "longestLength(a) "
      ],
      "execution_count": null,
      "outputs": [
        {
          "output_type": "stream",
          "text": [
            "Enter a list elements separated by space Backend Google Python\n",
            "The word with the longest length is: Backend  and length is  7\n"
          ],
          "name": "stdout"
        }
      ]
    },
    {
      "cell_type": "code",
      "metadata": {
        "colab": {
          "base_uri": "https://localhost:8080/"
        },
        "id": "YaEkD-xx1hgP",
        "outputId": "51c34c95-6137-4eb3-bc2b-1a96a0f7d1b1"
      },
      "source": [
        "#9. Construct following pattern using nested loop * * * * * * * * * * * * * * * * * * * * * * * * * \r\n",
        "print(\"Print equilateral triangle Pyramid using stars \")\r\n",
        "size = 7\r\n",
        "m = (2 * size) - 2\r\n",
        "for i in range(0, size):\r\n",
        "    for j in range(0, m):\r\n",
        "        print(end=\" \")\r\n",
        "    m = m - 1  # decrementing m after each loop\r\n",
        "    for j in range(0, i + 1):\r\n",
        "        # printing full Triangle pyramid using stars\r\n",
        "        print(\"* \", end=' ')\r\n",
        "    print(\" \")"
      ],
      "execution_count": null,
      "outputs": [
        {
          "output_type": "stream",
          "text": [
            "Print equilateral triangle Pyramid using stars \n",
            "            *   \n",
            "           *  *   \n",
            "          *  *  *   \n",
            "         *  *  *  *   \n",
            "        *  *  *  *  *   \n",
            "       *  *  *  *  *  *   \n",
            "      *  *  *  *  *  *  *   \n"
          ],
          "name": "stdout"
        }
      ]
    },
    {
      "cell_type": "code",
      "metadata": {
        "colab": {
          "base_uri": "https://localhost:8080/"
        },
        "id": "HMXC-wAY2VQl",
        "outputId": "c4da6e23-410b-4c9f-d9eb-f90ca42b0689"
      },
      "source": [
        "# 10.Python Program to find the factors of a number\r\n",
        "\r\n",
        "# This function computes the factor of the argument passed\r\n",
        "def print_factors(x):\r\n",
        "   print(\"The factors of\",x,\"are:\")\r\n",
        "   for i in range(1, x + 1):\r\n",
        "       if x % i == 0:\r\n",
        "           print(i)\r\n",
        "\r\n",
        "num = int(input(\"Enter a number : \"))\r\n",
        "\r\n",
        "print_factors(num)"
      ],
      "execution_count": null,
      "outputs": [
        {
          "output_type": "stream",
          "text": [
            "Enter a number : 6\n",
            "The factors of 6 are:\n",
            "1\n",
            "2\n",
            "3\n",
            "6\n"
          ],
          "name": "stdout"
        }
      ]
    },
    {
      "cell_type": "code",
      "metadata": {
        "colab": {
          "base_uri": "https://localhost:8080/"
        },
        "id": "6yjyLo-O3bo_",
        "outputId": "f36151e2-3ce8-465f-d658-88fe0dcfc2f6"
      },
      "source": [
        "#11. Write lambda functions to find area of square, rectangle and triangle\r\n",
        "square_area = lambda l : l * l\r\n",
        "l = int(input(\"Enter length of the square : \"))\r\n",
        "print(\"Area of the square : \" , square_area(l))\r\n",
        "\r\n",
        "rect_area = lambda l , b : l * b\r\n",
        "l = int(input(\"Enter length of the Rectangle : \"))\r\n",
        "b = int(input(\"Enter the  breadth of the rectangle : \"))\r\n",
        "print(\"Area of the  rectangle : \",rect_area(l,b))\r\n",
        "\r\n",
        "triangle_area = lambda b , h : 0.5 * b * h\r\n",
        "b = int(input(\"\\n Enter the base of the triangle : \"))\r\n",
        "h = int(input(\"Enter the height of the triangle :  \"))\r\n",
        "print(\"Area of the triangle : \" , triangle_area(b,h))\r\n",
        "\r\n"
      ],
      "execution_count": null,
      "outputs": [
        {
          "output_type": "stream",
          "text": [
            "Enter length of the square : 5\n",
            "Area of the square :  25\n",
            "Enter length of the Rectangle : 4\n",
            "Enter the  breadth of the rectangle : 6\n",
            "Area of the  rectangle :  24\n",
            "\n",
            " Enter the base of the triangle : 8\n",
            "Enter the height of the triangle :  5\n",
            "Area of the triangle :  20.0\n"
          ],
          "name": "stdout"
        }
      ]
    }
  ]
}