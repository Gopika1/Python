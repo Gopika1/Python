{
  "nbformat": 4,
  "nbformat_minor": 0,
  "metadata": {
    "colab": {
      "name": "Cycle2.ipynb",
      "provenance": [],
      "collapsed_sections": []
    },
    "kernelspec": {
      "name": "python3",
      "display_name": "Python 3"
    }
  },
  "cells": [
    {
      "cell_type": "code",
      "metadata": {
        "colab": {
          "base_uri": "https://localhost:8080/"
        },
        "id": "PkUJqj7wZMQy",
        "outputId": "0a091f67-44f4-4ea7-f327-e862800f3247"
      },
      "source": [
        "#2 Display future leap years from current year to a final year entered by user\r\n",
        "y=int(input(\"Enter the final year : \"))\r\n",
        "print(\"Future Leap Years from 2021 : \")\r\n",
        "for x in range (2021,y+1):\r\n",
        "  if((x%4==0) and (x%100!=0)) or (x%400==0):\r\n",
        "    print(x)"
      ],
      "execution_count": 2,
      "outputs": [
        {
          "output_type": "stream",
          "text": [
            "Enter the final year : 2031\n",
            "Future Leap Years from 2021 : \n",
            "2024\n",
            "2028\n"
          ],
          "name": "stdout"
        }
      ]
    },
    {
      "cell_type": "code",
      "metadata": {
        "colab": {
          "base_uri": "https://localhost:8080/"
        },
        "id": "lodxGejPb77E",
        "outputId": "d3fee714-6074-4f00-cf23-b39363b7de8d"
      },
      "source": [
        "#3a Generate positive list of numbers from a given list of integers\r\n",
        "mylist=[25,28,-11,100,-50,81,43,-32]\r\n",
        "print(\"First list : \",mylist)\r\n",
        "newlist=[x for x in mylist if x > 0]\r\n",
        "print(\"New list : \", newlist)"
      ],
      "execution_count": 2,
      "outputs": [
        {
          "output_type": "stream",
          "text": [
            "First list :  [25, 28, -11, 100, -50, 81, 43, -32]\n",
            "New list :  [25, 28, 100, 81, 43]\n"
          ],
          "name": "stdout"
        }
      ]
    },
    {
      "cell_type": "code",
      "metadata": {
        "colab": {
          "base_uri": "https://localhost:8080/"
        },
        "id": "DELVQr6KEhZ7",
        "outputId": "32a775bf-8bdd-4359-ca0e-50935d7609dc"
      },
      "source": [
        "#3b Square of N numbers\r\n",
        "mylist=[2,3,4,5,6]\r\n",
        "print(\"First list : \",mylist)\r\n",
        "newlist=[number ** 2 for number in mylist]\r\n",
        "print(\"New list : \" ,newlist)"
      ],
      "execution_count": 3,
      "outputs": [
        {
          "output_type": "stream",
          "text": [
            "First list :  [2, 3, 4, 5, 6]\n",
            "New list :  [4, 9, 16, 25, 36]\n"
          ],
          "name": "stdout"
        }
      ]
    },
    {
      "cell_type": "code",
      "metadata": {
        "colab": {
          "base_uri": "https://localhost:8080/"
        },
        "id": "UQzR9ArpGBtI",
        "outputId": "f7ff23e0-332b-410f-8bba-c106e6283759"
      },
      "source": [
        "#9 Create a string from given string where first and last characters exchanged\r\n",
        "a=input(\"Enter a string : \")\r\n",
        "print(\"New string : \")\r\n",
        "print(a[-1] + a[1:-1] +a[0])"
      ],
      "execution_count": 4,
      "outputs": [
        {
          "output_type": "stream",
          "text": [
            "Enter a string : python\n",
            "New string : \n",
            "nythop\n"
          ],
          "name": "stdout"
        }
      ]
    },
    {
      "cell_type": "code",
      "metadata": {
        "colab": {
          "base_uri": "https://localhost:8080/"
        },
        "id": "Vp2JYVcLHU3l",
        "outputId": "42cf796c-b003-43d5-c191-e2fef75ce2b4"
      },
      "source": [
        "#10 Accept the radius from user and find area of circle.\r\n",
        "r=float(input(\"Enter radius of circle : \"))\r\n",
        "pi=3.14\r\n",
        "area=pi * r * r\r\n",
        "print(\"Area = \" , area)"
      ],
      "execution_count": 5,
      "outputs": [
        {
          "output_type": "stream",
          "text": [
            "Enter radius of circle : 2\n",
            "Area =  12.56\n"
          ],
          "name": "stdout"
        }
      ]
    },
    {
      "cell_type": "code",
      "metadata": {
        "colab": {
          "base_uri": "https://localhost:8080/"
        },
        "id": "M28T-u1iKb1A",
        "outputId": "cf781eed-ebc6-4e37-9d9c-2d2c5eeb0920"
      },
      "source": [
        "#11 Find biggest of 3 numbers entered\r\n",
        "a = float(input(\"Enter first number : \"))\r\n",
        "b = float(input(\"Enter second number : \"))\r\n",
        "c = float(input(\"Enter third number : \"))\r\n",
        "\r\n",
        "if (a > b) and (a > c):\r\n",
        "  largest= a\r\n",
        "elif (b > a) and (b > c):\r\n",
        "    largest= b\r\n",
        "else:\r\n",
        "      largest = c\r\n",
        "print(\"The largest number is \", largest)"
      ],
      "execution_count": 12,
      "outputs": [
        {
          "output_type": "stream",
          "text": [
            "Enter first number : 50\n",
            "Enter second number : 45\n",
            "Enter third number : 30\n",
            "The largest number is  50.0\n"
          ],
          "name": "stdout"
        }
      ]
    },
    {
      "cell_type": "code",
      "metadata": {
        "colab": {
          "base_uri": "https://localhost:8080/"
        },
        "id": "Cu56yRzAIKHf",
        "outputId": "25c2b858-2551-4561-feee-9dde54316c78"
      },
      "source": [
        "#12 Accept a file name from user and print extension of that.\r\n",
        "filename = input(\"enter the filename : \")\r\n",
        "f_extns = filename.split(\".\")\r\n",
        "print (\"the extension of the file : \" + repr(f_extns[-1]))"
      ],
      "execution_count": 6,
      "outputs": [
        {
          "output_type": "stream",
          "text": [
            "enter the filename : mylist.css\n",
            "the extension of the file : 'css'\n"
          ],
          "name": "stdout"
        }
      ]
    },
    {
      "cell_type": "code",
      "metadata": {
        "colab": {
          "base_uri": "https://localhost:8080/"
        },
        "id": "nqDSubJsJ5T5",
        "outputId": "ad31608e-99bb-4eac-847c-cb1bf88b4b33"
      },
      "source": [
        "#18.Merge two dictionaries\r\n",
        "dict1 ={\"a\" :100 , \"b\" :200}\r\n",
        "dict2 ={\"x\" :300 , \"y\" :400}\r\n",
        "newdict = dict1.copy()\r\n",
        "newdict.update(dict2)\r\n",
        "print(\"Merged dictionary : \" ,newdict)\r\n"
      ],
      "execution_count": 13,
      "outputs": [
        {
          "output_type": "stream",
          "text": [
            "Merged dictionary :  {'a': 100, 'b': 200, 'x': 300, 'y': 400}\n"
          ],
          "name": "stdout"
        }
      ]
    },
    {
      "cell_type": "code",
      "metadata": {
        "colab": {
          "base_uri": "https://localhost:8080/"
        },
        "id": "_TZxuD_ZQe7h",
        "outputId": "9d9689f2-2382-42c8-a950-82990646effa"
      },
      "source": [
        "#19 Find gcd of 2 numbers\r\n",
        "num1 = int(input(\"Enter 1st number: \"))\r\n",
        "num2 = int(input(\"Enter 2nd number: \"))\r\n",
        "i = 1\r\n",
        "while(i <= num1 and i <= num2):\r\n",
        "  if(num1 % i == 0 and num2 % i == 0):\r\n",
        "    gcd = i\r\n",
        "  i = i + 1\r\n",
        "print(\"GCD is\", gcd)"
      ],
      "execution_count": 14,
      "outputs": [
        {
          "output_type": "stream",
          "text": [
            "Enter 1st number: 60\n",
            "Enter 2nd number: 48\n",
            "GCD is 12\n"
          ],
          "name": "stdout"
        }
      ]
    },
    {
      "cell_type": "code",
      "metadata": {
        "colab": {
          "base_uri": "https://localhost:8080/"
        },
        "id": "CoRGQie9RUzC",
        "outputId": "e4684bb0-2675-4909-d3f0-4057b41739aa"
      },
      "source": [
        "#20 From a list of integers, create a list removing even numbers\r\n",
        "list = [1,2,3,4,5,6,7,8,9,10]\r\n",
        "print(\"original list : \",list)\r\n",
        "for i in list:\r\n",
        "  if(i%2 == 0):\r\n",
        "    list.remove(i)\r\n",
        "print(\"List after removing all even numbers : \",list)"
      ],
      "execution_count": 17,
      "outputs": [
        {
          "output_type": "stream",
          "text": [
            "original list :  [1, 2, 3, 4, 5, 6, 7, 8, 9, 10]\n",
            "List after removing all even numbers :  [1, 3, 5, 7, 9]\n"
          ],
          "name": "stdout"
        }
      ]
    },
    {
      "cell_type": "code",
      "metadata": {
        "id": "BiIP3h6ZTFHe"
      },
      "source": [
        ""
      ],
      "execution_count": null,
      "outputs": []
    }
  ]
}