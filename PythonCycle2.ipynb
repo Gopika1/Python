{
  "nbformat": 4,
  "nbformat_minor": 0,
  "metadata": {
    "colab": {
      "name": "PythonCycle2.ipynb",
      "provenance": [],
      "collapsed_sections": []
    },
    "kernelspec": {
      "name": "python3",
      "display_name": "Python 3"
    }
  },
  "cells": [
    {
      "cell_type": "code",
      "metadata": {
        "colab": {
          "base_uri": "https://localhost:8080/"
        },
        "id": "13P5FgWcHNmQ",
        "outputId": "d0028b4d-2552-426c-ca1d-266e6678d12b"
      },
      "source": [
        "#1 print your address\r\n",
        "def personal_details():\r\n",
        "    name = \"Gopika Gopinathan\" \r\n",
        "    address = \"Choorakkuttiyil(H),Kulathoor P.O,Vaipur,Pathanamthitta, India\"\r\n",
        "    print(\"Name: {}\\n Address: {}\".format(name, address))\r\n",
        "\r\n",
        "personal_details()"
      ],
      "execution_count": null,
      "outputs": [
        {
          "output_type": "stream",
          "text": [
            "Name: Gopika Gopinathan\n",
            " Address: Choorakkuttiyil(H),Kulathoor P.O,Vaipur,Pathanamthitta, India\n"
          ],
          "name": "stdout"
        }
      ]
    },
    {
      "cell_type": "code",
      "metadata": {
        "colab": {
          "base_uri": "https://localhost:8080/"
        },
        "id": "PkUJqj7wZMQy",
        "outputId": "0a091f67-44f4-4ea7-f327-e862800f3247"
      },
      "source": [
        "#2 Display future leap years from current year to a final year entered by user\r\n",
        "y=int(input(\"Enter the final year : \"))\r\n",
        "print(\"Future Leap Years from 2021 : \")\r\n",
        "for x in range (2021,y+1):\r\n",
        "  if((x%4==0) and (x%100!=0)) or (x%400==0):\r\n",
        "    print(x)"
      ],
      "execution_count": null,
      "outputs": [
        {
          "output_type": "stream",
          "text": [
            "Enter the final year : 2031\n",
            "Future Leap Years from 2021 : \n",
            "2024\n",
            "2028\n"
          ],
          "name": "stdout"
        }
      ]
    },
    {
      "cell_type": "code",
      "metadata": {
        "colab": {
          "base_uri": "https://localhost:8080/"
        },
        "id": "lodxGejPb77E",
        "outputId": "d3fee714-6074-4f00-cf23-b39363b7de8d"
      },
      "source": [
        "#3a Generate positive list of numbers from a given list of integers\r\n",
        "mylist=[25,28,-11,100,-50,81,43,-32]\r\n",
        "print(\"First list : \",mylist)\r\n",
        "newlist=[x for x in mylist if x > 0]\r\n",
        "print(\"New list : \", newlist)"
      ],
      "execution_count": null,
      "outputs": [
        {
          "output_type": "stream",
          "text": [
            "First list :  [25, 28, -11, 100, -50, 81, 43, -32]\n",
            "New list :  [25, 28, 100, 81, 43]\n"
          ],
          "name": "stdout"
        }
      ]
    },
    {
      "cell_type": "code",
      "metadata": {
        "colab": {
          "base_uri": "https://localhost:8080/"
        },
        "id": "DELVQr6KEhZ7",
        "outputId": "32a775bf-8bdd-4359-ca0e-50935d7609dc"
      },
      "source": [
        "#3b Square of N numbers\r\n",
        "mylist=[2,3,4,5,6]\r\n",
        "print(\"First list : \",mylist)\r\n",
        "newlist=[number ** 2 for number in mylist]\r\n",
        "print(\"New list : \" ,newlist)"
      ],
      "execution_count": null,
      "outputs": [
        {
          "output_type": "stream",
          "text": [
            "First list :  [2, 3, 4, 5, 6]\n",
            "New list :  [4, 9, 16, 25, 36]\n"
          ],
          "name": "stdout"
        }
      ]
    },
    {
      "cell_type": "code",
      "metadata": {
        "colab": {
          "base_uri": "https://localhost:8080/"
        },
        "id": "46H6pVYSH61Y",
        "outputId": "f02e3310-5e69-4939-d630-733200e81b85"
      },
      "source": [
        "#3c Form a list of vowels selected from a given word\r\n",
        "word= input(\"Enter a word: \") \r\n",
        "vowels=[ 'a' , 'e' , 'i' , 'o' , 'u' ]\r\n",
        "list=[]\r\n",
        "for x in word:\r\n",
        "  if(x in vowels and x not in list):\r\n",
        "     list.append(x)\r\n",
        "print(\"vowels present in the given word is: \",list)"
      ],
      "execution_count": null,
      "outputs": [
        {
          "output_type": "stream",
          "text": [
            "Enter a word: beautiful\n",
            "vowels present in the given word is:  ['e', 'a', 'u', 'i']\n"
          ],
          "name": "stdout"
        }
      ]
    },
    {
      "cell_type": "code",
      "metadata": {
        "colab": {
          "base_uri": "https://localhost:8080/"
        },
        "id": "G0zec86wold7",
        "outputId": "67742107-8784-4874-c249-52f4d32dc7f7"
      },
      "source": [
        "#3 (d)List ordinal value of each element of a word (Hint: use ord() to get ordinal values)\r\n",
        "w=input(\"enter any word : \")\r\n",
        "for l in range(len(w)) :\r\n",
        "  print(\"ASCII value is\",w[l],\"is\",ord(w[l]))"
      ],
      "execution_count": null,
      "outputs": [
        {
          "output_type": "stream",
          "text": [
            "enter any word : day\n",
            "ASCII value is d is 100\n",
            "ASCII value is a is 97\n",
            "ASCII value is y is 121\n"
          ],
          "name": "stdout"
        }
      ]
    },
    {
      "cell_type": "code",
      "metadata": {
        "colab": {
          "base_uri": "https://localhost:8080/"
        },
        "id": "Bgrty1XiPlZE",
        "outputId": "255f1ba2-82ff-42ee-b75c-6656a3ed8f86"
      },
      "source": [
        "#4 Count the occurrences of each word in a line of text.\r\n",
        "def word_count(str):\r\n",
        "    counts = dict()\r\n",
        "    words = str.split()\r\n",
        "\r\n",
        "    for word in words:\r\n",
        "        if word in counts:\r\n",
        "            counts[word] += 1\r\n",
        "        else:\r\n",
        "            counts[word] = 1\r\n",
        "\r\n",
        "    return counts\r\n",
        "\r\n",
        "print( word_count('the quick brown fox jumps over the lazy dog.'))  "
      ],
      "execution_count": null,
      "outputs": [
        {
          "output_type": "stream",
          "text": [
            "{'the': 2, 'quick': 1, 'brown': 1, 'fox': 1, 'jumps': 1, 'over': 1, 'lazy': 1, 'dog.': 1}\n"
          ],
          "name": "stdout"
        }
      ]
    },
    {
      "cell_type": "code",
      "metadata": {
        "colab": {
          "base_uri": "https://localhost:8080/"
        },
        "id": "CoIYNCSpqxHr",
        "outputId": "9aba15c4-02e6-4cb0-ea2d-f630947f5508"
      },
      "source": [
        "#5.Prompt the user for a list of integers. For all values greater than 100, store ‘over’ instead.\r\n",
        "x=[]\r\n",
        "n=int(input(\"enter any integers :\"))\r\n",
        "for i in range(1,n+1):\r\n",
        "  a=int(input())\r\n",
        "  if (a>100):\r\n",
        "    x.append('over')\r\n",
        "  else:\r\n",
        "    x.append(a)\r\n",
        "print(\"modified list :\" ,x)"
      ],
      "execution_count": null,
      "outputs": [
        {
          "output_type": "stream",
          "text": [
            "enter any integers :4\n",
            "50\n",
            "100\n",
            "200\n",
            "300\n",
            "modified list : [50, 100, 'over', 'over']\n"
          ],
          "name": "stdout"
        }
      ]
    },
    {
      "cell_type": "code",
      "metadata": {
        "colab": {
          "base_uri": "https://localhost:8080/"
        },
        "id": "tP4kV8jYawI4",
        "outputId": "e46e8cd8-f362-4684-c8a2-9ec7b233e089"
      },
      "source": [
        "#6 Store a list of first names. Count the occurrences of ‘a’ within the list\r\n",
        "name =input(\"Enter the first names : \")\r\n",
        "list = []\r\n",
        "count = 0\r\n",
        "for x in name:\r\n",
        " list.append(x)\r\n",
        " if(x in name and x == 'a'):\r\n",
        "   count = count + 1\r\n",
        "print(count)"
      ],
      "execution_count": null,
      "outputs": [
        {
          "output_type": "stream",
          "text": [
            "Enter the first names : Gopika Gayathri\n",
            "3\n"
          ],
          "name": "stdout"
        }
      ]
    },
    {
      "cell_type": "code",
      "metadata": {
        "id": "ymM2De1nv0XN",
        "colab": {
          "base_uri": "https://localhost:8080/"
        },
        "outputId": "029b3f70-7355-463e-f282-cc624ff24340"
      },
      "source": [
        "#7 Enter 2 list of integers.\r\n",
        "#a) check whether lists are of same length\r\n",
        "list1 = [1, 2, 4, 3, 8] \r\n",
        "list2 = [1, 2, 4, 3, 5] \r\n",
        "print (\"The first list is : \" + str(list1)) \r\n",
        "print (\"The second list is : \" + str(list2)) \r\n",
        "l1 = len(list1)\r\n",
        "l2 = len(list2)\r\n",
        "print(\"Length of list1 : \" , l1 , \"and Length of list2 : \" , l2)\r\n",
        "if l1 == l2: \r\n",
        "    print (\"The lists are of same length\") \r\n",
        "else : \r\n",
        "    print (\"The lists are of different length\") "
      ],
      "execution_count": null,
      "outputs": [
        {
          "output_type": "stream",
          "text": [
            "The first list is : [1, 2, 4, 3, 8]\n",
            "The second list is : [1, 2, 4, 3, 5]\n",
            "Length of list1 :  5 and Length of list2 :  5\n",
            "The lists are of same length\n"
          ],
          "name": "stdout"
        }
      ]
    },
    {
      "cell_type": "code",
      "metadata": {
        "id": "ef-CYp7Wv2L_",
        "colab": {
          "base_uri": "https://localhost:8080/"
        },
        "outputId": "519abb25-4f2d-4ffe-b41c-ff8ff15e9b26"
      },
      "source": [
        "#7b check whether lists sums to same value\r\n",
        "list1 = [1, 2, 4, 3, 8] \r\n",
        "list2 = [1, 2, 4, 3, 5] \r\n",
        "print (\"The first list is : \" + str(list1)) \r\n",
        "print (\"The second list is : \" + str(list2)) \r\n",
        "sum1 = 0\r\n",
        "sum2 = 0\r\n",
        "for x in range(0, len(list1)):\r\n",
        "    sum1 = sum1 + list1[x]\r\n",
        "print(\"Sum of all elements in given list1 : \", sum1)\r\n",
        "for x in range(0, len(list2)):\r\n",
        "    sum2 = sum2 + list2[x]\r\n",
        "print(\"Sum of all elements in given list2 : \", sum2)    \r\n",
        "if( sum1 == sum2):\r\n",
        "  print(\"Lists sums to same value\")\r\n",
        "else:\r\n",
        "  print(\"Lists sums to different value\")"
      ],
      "execution_count": null,
      "outputs": [
        {
          "output_type": "stream",
          "text": [
            "The first list is : [1, 2, 4, 3, 8]\n",
            "The second list is : [1, 2, 4, 3, 5]\n",
            "Sum of all elements in given list1 :  18\n",
            "Sum of all elements in given list2 :  15\n",
            "Lists sums to different value\n"
          ],
          "name": "stdout"
        }
      ]
    },
    {
      "cell_type": "code",
      "metadata": {
        "colab": {
          "base_uri": "https://localhost:8080/"
        },
        "id": "orLaP4ByrxS1",
        "outputId": "d0249559-a4c1-4b7f-d03a-b1f5c9bf7f5e"
      },
      "source": [
        "#7c  Check whether any value occur in both\r\n",
        "list1 =[1,2,4,3,8]\r\n",
        "list2 =[1,2,4,3,5]\r\n",
        "print (\"The first list is : \" + str(list1))\r\n",
        "print (\"The second list is : \" + str(list2))\r\n",
        "print (\"The values occur in both lists : \")\r\n",
        "for x in list1:\r\n",
        "    if(x in list1 and x in list2):\r\n",
        "      print(x)"
      ],
      "execution_count": 10,
      "outputs": [
        {
          "output_type": "stream",
          "text": [
            "The first list is : [1, 2, 4, 3, 8]\n",
            "The second list is : [1, 2, 4, 3, 5]\n",
            "The values occur in both lists : \n",
            "1\n",
            "2\n",
            "4\n",
            "3\n"
          ],
          "name": "stdout"
        }
      ]
    },
    {
      "cell_type": "code",
      "metadata": {
        "colab": {
          "base_uri": "https://localhost:8080/"
        },
        "id": "Kgj9_kQTFagJ",
        "outputId": "b9605202-e948-4cfa-d48e-7c86e8eb5109"
      },
      "source": [
        "#8 Replace all occurance of first character with $ except first character\r\n",
        "def change_char(str1):\r\n",
        "  char = str1[0]\r\n",
        "  str1 = str1.replace(char, '$')\r\n",
        "  str1 = char + str1[1:]\r\n",
        "  return str1\r\n",
        "\r\n",
        "print(change_char('onion'))"
      ],
      "execution_count": null,
      "outputs": [
        {
          "output_type": "stream",
          "text": [
            "oni$n\n"
          ],
          "name": "stdout"
        }
      ]
    },
    {
      "cell_type": "code",
      "metadata": {
        "colab": {
          "base_uri": "https://localhost:8080/"
        },
        "id": "UQzR9ArpGBtI",
        "outputId": "f7ff23e0-332b-410f-8bba-c106e6283759"
      },
      "source": [
        "#9 Create a string from given string where first and last characters exchanged\r\n",
        "a=input(\"Enter a string : \")\r\n",
        "print(\"New string : \")\r\n",
        "print(a[-1] + a[1:-1] +a[0])"
      ],
      "execution_count": null,
      "outputs": [
        {
          "output_type": "stream",
          "text": [
            "Enter a string : python\n",
            "New string : \n",
            "nythop\n"
          ],
          "name": "stdout"
        }
      ]
    },
    {
      "cell_type": "code",
      "metadata": {
        "colab": {
          "base_uri": "https://localhost:8080/"
        },
        "id": "Vp2JYVcLHU3l",
        "outputId": "42cf796c-b003-43d5-c191-e2fef75ce2b4"
      },
      "source": [
        "#10 Accept the radius from user and find area of circle.\r\n",
        "r=float(input(\"Enter radius of circle : \"))\r\n",
        "pi=3.14\r\n",
        "area=pi * r * r\r\n",
        "print(\"Area = \" , area)"
      ],
      "execution_count": null,
      "outputs": [
        {
          "output_type": "stream",
          "text": [
            "Enter radius of circle : 2\n",
            "Area =  12.56\n"
          ],
          "name": "stdout"
        }
      ]
    },
    {
      "cell_type": "code",
      "metadata": {
        "colab": {
          "base_uri": "https://localhost:8080/"
        },
        "id": "M28T-u1iKb1A",
        "outputId": "cf781eed-ebc6-4e37-9d9c-2d2c5eeb0920"
      },
      "source": [
        "#11 Find biggest of 3 numbers entered\r\n",
        "a = float(input(\"Enter first number : \"))\r\n",
        "b = float(input(\"Enter second number : \"))\r\n",
        "c = float(input(\"Enter third number : \"))\r\n",
        "\r\n",
        "if (a > b) and (a > c):\r\n",
        "  largest= a\r\n",
        "elif (b > a) and (b > c):\r\n",
        "    largest= b\r\n",
        "else:\r\n",
        "      largest = c\r\n",
        "print(\"The largest number is \", largest)"
      ],
      "execution_count": null,
      "outputs": [
        {
          "output_type": "stream",
          "text": [
            "Enter first number : 50\n",
            "Enter second number : 45\n",
            "Enter third number : 30\n",
            "The largest number is  50.0\n"
          ],
          "name": "stdout"
        }
      ]
    },
    {
      "cell_type": "code",
      "metadata": {
        "colab": {
          "base_uri": "https://localhost:8080/"
        },
        "id": "Cu56yRzAIKHf",
        "outputId": "25c2b858-2551-4561-feee-9dde54316c78"
      },
      "source": [
        "#12 Accept a file name from user and print extension of that.\r\n",
        "filename = input(\"enter the filename : \")\r\n",
        "f_extns = filename.split(\".\")\r\n",
        "print (\"the extension of the file : \" + repr(f_extns[-1]))"
      ],
      "execution_count": null,
      "outputs": [
        {
          "output_type": "stream",
          "text": [
            "enter the filename : mylist.css\n",
            "the extension of the file : 'css'\n"
          ],
          "name": "stdout"
        }
      ]
    },
    {
      "cell_type": "code",
      "metadata": {
        "colab": {
          "base_uri": "https://localhost:8080/"
        },
        "id": "sWyGTw4_Tzsp",
        "outputId": "7815e773-317b-41b8-cf34-3c9ee8da0689"
      },
      "source": [
        "#13 Create a list of colors from comma-separated color names entered by user. Display first and last colors.\r\n",
        "word = input(\"Enter the colors : \")\r\n",
        "color_list = word.split(\",\")\r\n",
        "print(\"The color list is : \" , color_list)\r\n",
        "print(\"The first and last colors are : \")\r\n",
        "print( \"%s %s\"%(color_list[0],color_list[-1]))\r\n"
      ],
      "execution_count": null,
      "outputs": [
        {
          "output_type": "stream",
          "text": [
            "Enter the colors : Red, blue,Green,Yellow\n",
            "The color list is :  ['Red', ' blue', 'Green', 'Yellow']\n",
            "The first and last colors are : \n",
            "Red Yellow\n"
          ],
          "name": "stdout"
        }
      ]
    },
    {
      "cell_type": "code",
      "metadata": {
        "colab": {
          "base_uri": "https://localhost:8080/"
        },
        "id": "ZKQE5BKqvykw",
        "outputId": "008c79dc-bcb0-4b79-8fb8-be7d525daa1a"
      },
      "source": [
        "#14 Accept an integer n and compute n+nn+nnn\r\n",
        "a = int(input(\" enter an integer : \"))\r\n",
        "n1 = int(\"%s\" % a )\r\n",
        "n2 = int(\"%s%s\" % (a,a) )\r\n",
        "n3 = int(\"%s%s%s\" % (a,a,a))\r\n",
        "print (n1+n2+n3)\r\n"
      ],
      "execution_count": null,
      "outputs": [
        {
          "output_type": "stream",
          "text": [
            " enter an integer : 5\n",
            "615\n"
          ],
          "name": "stdout"
        }
      ]
    },
    {
      "cell_type": "code",
      "metadata": {
        "colab": {
          "base_uri": "https://localhost:8080/"
        },
        "id": "bpTZ07B7YvdJ",
        "outputId": "46b9529f-2061-4696-edd5-07d22d1bb26d"
      },
      "source": [
        "#15.Print out all colors from color-list1 not contained in color-list2.\r\n",
        "color_list_1 = set([\"White\" ,\"Yellow\",\"Blue\",\"Red\"])\r\n",
        "color_list_2 = set([\"Green\" ,\"Violet\" , \"Orange\",\"Red\"])\r\n",
        "print(color_list_1.difference(color_list_2))"
      ],
      "execution_count": null,
      "outputs": [
        {
          "output_type": "stream",
          "text": [
            "{'Blue', 'White', 'Yellow'}\n"
          ],
          "name": "stdout"
        }
      ]
    },
    {
      "cell_type": "code",
      "metadata": {
        "colab": {
          "base_uri": "https://localhost:8080/"
        },
        "id": "dtit9y4Acbea",
        "outputId": "c2b25801-0ea5-4a1e-b65a-23bb8cb15aa5"
      },
      "source": [
        "16#Create a single string separated with space from two strings by swapping the character at position 1\r\n",
        "def chars_mix_up(a, b):\r\n",
        "  str1 = a[0] + b[1] + a[2:]\r\n",
        "  str2 = b[0] + a[1] + b[2:]\r\n",
        "\r\n",
        "  return str1 + ' ' + str2\r\n",
        "print(chars_mix_up('abc', 'xyz'))"
      ],
      "execution_count": null,
      "outputs": [
        {
          "output_type": "stream",
          "text": [
            "ayc xbz\n"
          ],
          "name": "stdout"
        }
      ]
    },
    {
      "cell_type": "code",
      "metadata": {
        "id": "PZTqaVO8fryg"
      },
      "source": [
        "#17.Sort dictionary in ascending and descending order\r\n",
        "y={'John':34 , 'Tom':25 , 'Chris':36}\r\n",
        "l=list(y.items())\r\n",
        "l.sort()\r\n",
        "print(\"ascending order:\" ,1)\r\n",
        "l=list(y.items())\r\n",
        "l.sort(reverse = True)\r\n",
        "print(\"descending order: \", 1)\r\n",
        "dict = dict(1)\r\n",
        "print(\"dictionary\",dict)"
      ],
      "execution_count": null,
      "outputs": []
    },
    {
      "cell_type": "code",
      "metadata": {
        "colab": {
          "base_uri": "https://localhost:8080/"
        },
        "id": "nqDSubJsJ5T5",
        "outputId": "ad31608e-99bb-4eac-847c-cb1bf88b4b33"
      },
      "source": [
        "#18.Merge two dictionaries\r\n",
        "dict1 ={\"a\" :100 , \"b\" :200}\r\n",
        "dict2 ={\"x\" :300 , \"y\" :400}\r\n",
        "newdict = dict1.copy()\r\n",
        "newdict.update(dict2)\r\n",
        "print(\"Merged dictionary : \" ,newdict)\r\n"
      ],
      "execution_count": null,
      "outputs": [
        {
          "output_type": "stream",
          "text": [
            "Merged dictionary :  {'a': 100, 'b': 200, 'x': 300, 'y': 400}\n"
          ],
          "name": "stdout"
        }
      ]
    },
    {
      "cell_type": "code",
      "metadata": {
        "colab": {
          "base_uri": "https://localhost:8080/"
        },
        "id": "_TZxuD_ZQe7h",
        "outputId": "9d9689f2-2382-42c8-a950-82990646effa"
      },
      "source": [
        "#19 Find gcd of 2 numbers\r\n",
        "num1 = int(input(\"Enter 1st number: \"))\r\n",
        "num2 = int(input(\"Enter 2nd number: \"))\r\n",
        "i = 1\r\n",
        "while(i <= num1 and i <= num2):\r\n",
        "  if(num1 % i == 0 and num2 % i == 0):\r\n",
        "    gcd = i\r\n",
        "  i = i + 1\r\n",
        "print(\"GCD is\", gcd)"
      ],
      "execution_count": null,
      "outputs": [
        {
          "output_type": "stream",
          "text": [
            "Enter 1st number: 60\n",
            "Enter 2nd number: 48\n",
            "GCD is 12\n"
          ],
          "name": "stdout"
        }
      ]
    },
    {
      "cell_type": "code",
      "metadata": {
        "colab": {
          "base_uri": "https://localhost:8080/"
        },
        "id": "CoRGQie9RUzC",
        "outputId": "e4684bb0-2675-4909-d3f0-4057b41739aa"
      },
      "source": [
        "#20 From a list of integers, create a list removing even numbers\r\n",
        "list = [1,2,3,4,5,6,7,8,9,10]\r\n",
        "print(\"original list : \",list)\r\n",
        "for i in list:\r\n",
        "  if(i%2 == 0):\r\n",
        "    list.remove(i)\r\n",
        "print(\"List after removing all even numbers : \",list)"
      ],
      "execution_count": null,
      "outputs": [
        {
          "output_type": "stream",
          "text": [
            "original list :  [1, 2, 3, 4, 5, 6, 7, 8, 9, 10]\n",
            "List after removing all even numbers :  [1, 3, 5, 7, 9]\n"
          ],
          "name": "stdout"
        }
      ]
    },
    {
      "cell_type": "code",
      "metadata": {
        "id": "BiIP3h6ZTFHe"
      },
      "source": [
        ""
      ],
      "execution_count": null,
      "outputs": []
    }
  ]
}